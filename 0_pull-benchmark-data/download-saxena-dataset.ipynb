{
 "cells": [
  {
   "cell_type": "markdown",
   "id": "fccd2ccc-754b-4f5e-94e9-9bf523e3cf00",
   "metadata": {},
   "source": [
    "# Gather Data from Saxena et al.\n",
    "Our primary dataset to explore is the [dataset used in our previous work on CNNs](https://www.sciencedirect.com/science/article/pii/S0378775322007303?via%3Dihub), that of [Severson et al.](https://data.matr.io/1/projects/5c48dd2bc625d700019f3204) and [Attia et al.](https://data.matr.io/1/projects/5d80e633f405260001c0b60a).\n",
    "\n",
    "We are going to use the BEEP-formated datasets.\n",
    "\n",
    "TODO: \n",
    "- Switch to using the raw files so we can gain access\n",
    "- Build some code to "
   ]
  },
  {
   "cell_type": "code",
   "execution_count": 1,
   "id": "99aa7c39-7179-4bb7-9e2f-f6532097b55c",
   "metadata": {
    "tags": []
   },
   "outputs": [],
   "source": [
    "from zipfile import ZipFile\n",
    "from pathlib import Path\n",
    "from tqdm import tqdm\n",
    "import pandas as pd\n",
    "import json"
   ]
  },
  {
   "cell_type": "markdown",
   "id": "9c44405f-b047-4601-a576-1f1aec89d1d4",
   "metadata": {},
   "source": [
    "Configuration"
   ]
  },
  {
   "cell_type": "code",
   "execution_count": 2,
   "id": "ffb8b22a-7c0c-45bb-9f5a-5dde27696e9f",
   "metadata": {},
   "outputs": [],
   "source": [
    "urls = [\n",
    "    'https://s3.amazonaws.com/publications.matr.io/1/final_data/FastCharge.zip',\n",
    "]"
   ]
  },
  {
   "cell_type": "markdown",
   "id": "ef0d1ba7-c170-4557-a552-f3832414d5dd",
   "metadata": {},
   "source": [
    "## Download Data, if Needed\n",
    "Download the data to a local directory, if not available"
   ]
  },
  {
   "cell_type": "code",
   "execution_count": 3,
   "id": "c05a207a-6cf6-4cd4-afff-d9ded5a7aa9c",
   "metadata": {
    "tags": []
   },
   "outputs": [],
   "source": [
    "# TBD"
   ]
  },
  {
   "cell_type": "markdown",
   "id": "d7409db1-71c4-4354-abf4-fb973574d6f5",
   "metadata": {},
   "source": [
    "## Save and Pandas Datafiles\n",
    "Save the summary and discharge data in separate compressed CSVs"
   ]
  },
  {
   "cell_type": "code",
   "execution_count": 4,
   "id": "88205108-73ee-4083-9044-b046dfaec5fa",
   "metadata": {
    "tags": []
   },
   "outputs": [],
   "source": [
    "zp = ZipFile('data/raw/FastCharge.zip')"
   ]
  },
  {
   "cell_type": "markdown",
   "id": "d1a2d624-0298-466c-b439-abe7e0a5e0d7",
   "metadata": {},
   "source": [
    "Each JSON file contains a summary with capacities and \"interpolated\" section with the discharge curves"
   ]
  },
  {
   "cell_type": "code",
   "execution_count": 5,
   "id": "d951a83f-396f-4bbe-ade1-29c592b6ba66",
   "metadata": {
    "tags": []
   },
   "outputs": [],
   "source": [
    "with zp.open(zp.filelist[0]) as fp:\n",
    "    data = json.load(fp)"
   ]
  },
  {
   "cell_type": "code",
   "execution_count": 6,
   "id": "77b7fc30-b52f-45b5-b072-b9292a06067d",
   "metadata": {
    "tags": []
   },
   "outputs": [
    {
     "data": {
      "text/html": [
       "<div>\n",
       "<style scoped>\n",
       "    .dataframe tbody tr th:only-of-type {\n",
       "        vertical-align: middle;\n",
       "    }\n",
       "\n",
       "    .dataframe tbody tr th {\n",
       "        vertical-align: top;\n",
       "    }\n",
       "\n",
       "    .dataframe thead th {\n",
       "        text-align: right;\n",
       "    }\n",
       "</style>\n",
       "<table border=\"1\" class=\"dataframe\">\n",
       "  <thead>\n",
       "    <tr style=\"text-align: right;\">\n",
       "      <th></th>\n",
       "      <th>cycle_index</th>\n",
       "      <th>discharge_capacity</th>\n",
       "      <th>charge_capacity</th>\n",
       "      <th>discharge_energy</th>\n",
       "      <th>charge_energy</th>\n",
       "      <th>dc_internal_resistance</th>\n",
       "      <th>temperature_maximum</th>\n",
       "      <th>temperature_average</th>\n",
       "      <th>temperature_minimum</th>\n",
       "      <th>date_time_iso</th>\n",
       "      <th>energy_efficiency</th>\n",
       "      <th>charge_throughput</th>\n",
       "      <th>energy_throughput</th>\n",
       "      <th>charge_duration</th>\n",
       "      <th>time_temperature_integrated</th>\n",
       "      <th>paused</th>\n",
       "    </tr>\n",
       "  </thead>\n",
       "  <tbody>\n",
       "    <tr>\n",
       "      <th>0</th>\n",
       "      <td>0</td>\n",
       "      <td>1.956658</td>\n",
       "      <td>1.448619</td>\n",
       "      <td>6.191904</td>\n",
       "      <td>4.781313</td>\n",
       "      <td>0.032502</td>\n",
       "      <td>34.373383</td>\n",
       "      <td>30.039505</td>\n",
       "      <td>25.393084</td>\n",
       "      <td>2017-07-01T04:01:04+00:00</td>\n",
       "      <td>1.295022</td>\n",
       "      <td>1.448619</td>\n",
       "      <td>4.781313</td>\n",
       "      <td>32896.0</td>\n",
       "      <td>38819.488265</td>\n",
       "      <td>0</td>\n",
       "    </tr>\n",
       "    <tr>\n",
       "      <th>1</th>\n",
       "      <td>1</td>\n",
       "      <td>1.075365</td>\n",
       "      <td>1.075153</td>\n",
       "      <td>3.267657</td>\n",
       "      <td>3.756917</td>\n",
       "      <td>0.020373</td>\n",
       "      <td>37.425835</td>\n",
       "      <td>32.965240</td>\n",
       "      <td>30.258728</td>\n",
       "      <td>2017-07-02T01:36:00+00:00</td>\n",
       "      <td>0.869771</td>\n",
       "      <td>2.523772</td>\n",
       "      <td>8.538230</td>\n",
       "      <td>640.0</td>\n",
       "      <td>1969.694576</td>\n",
       "      <td>0</td>\n",
       "    </tr>\n",
       "    <tr>\n",
       "      <th>2</th>\n",
       "      <td>2</td>\n",
       "      <td>1.079731</td>\n",
       "      <td>1.079275</td>\n",
       "      <td>3.282510</td>\n",
       "      <td>3.762942</td>\n",
       "      <td>0.020216</td>\n",
       "      <td>37.651405</td>\n",
       "      <td>33.373199</td>\n",
       "      <td>30.492798</td>\n",
       "      <td>2017-07-02T02:35:44+00:00</td>\n",
       "      <td>0.872325</td>\n",
       "      <td>3.603047</td>\n",
       "      <td>12.301172</td>\n",
       "      <td>640.0</td>\n",
       "      <td>2060.234823</td>\n",
       "      <td>0</td>\n",
       "    </tr>\n",
       "    <tr>\n",
       "      <th>3</th>\n",
       "      <td>3</td>\n",
       "      <td>1.079204</td>\n",
       "      <td>1.080269</td>\n",
       "      <td>3.279970</td>\n",
       "      <td>3.765339</td>\n",
       "      <td>0.020207</td>\n",
       "      <td>37.834183</td>\n",
       "      <td>33.372826</td>\n",
       "      <td>30.417418</td>\n",
       "      <td>2017-07-02T03:37:36+00:00</td>\n",
       "      <td>0.871096</td>\n",
       "      <td>4.683316</td>\n",
       "      <td>16.066511</td>\n",
       "      <td>512.0</td>\n",
       "      <td>1992.821139</td>\n",
       "      <td>0</td>\n",
       "    </tr>\n",
       "    <tr>\n",
       "      <th>4</th>\n",
       "      <td>4</td>\n",
       "      <td>1.081131</td>\n",
       "      <td>1.080579</td>\n",
       "      <td>3.286086</td>\n",
       "      <td>3.766289</td>\n",
       "      <td>0.020152</td>\n",
       "      <td>37.878963</td>\n",
       "      <td>33.425713</td>\n",
       "      <td>30.534182</td>\n",
       "      <td>2017-07-02T04:37:20+00:00</td>\n",
       "      <td>0.872500</td>\n",
       "      <td>5.763896</td>\n",
       "      <td>19.832800</td>\n",
       "      <td>512.0</td>\n",
       "      <td>1993.090434</td>\n",
       "      <td>0</td>\n",
       "    </tr>\n",
       "  </tbody>\n",
       "</table>\n",
       "</div>"
      ],
      "text/plain": [
       "   cycle_index  discharge_capacity  charge_capacity  discharge_energy  \\\n",
       "0            0            1.956658         1.448619          6.191904   \n",
       "1            1            1.075365         1.075153          3.267657   \n",
       "2            2            1.079731         1.079275          3.282510   \n",
       "3            3            1.079204         1.080269          3.279970   \n",
       "4            4            1.081131         1.080579          3.286086   \n",
       "\n",
       "   charge_energy  dc_internal_resistance  temperature_maximum  \\\n",
       "0       4.781313                0.032502            34.373383   \n",
       "1       3.756917                0.020373            37.425835   \n",
       "2       3.762942                0.020216            37.651405   \n",
       "3       3.765339                0.020207            37.834183   \n",
       "4       3.766289                0.020152            37.878963   \n",
       "\n",
       "   temperature_average  temperature_minimum              date_time_iso  \\\n",
       "0            30.039505            25.393084  2017-07-01T04:01:04+00:00   \n",
       "1            32.965240            30.258728  2017-07-02T01:36:00+00:00   \n",
       "2            33.373199            30.492798  2017-07-02T02:35:44+00:00   \n",
       "3            33.372826            30.417418  2017-07-02T03:37:36+00:00   \n",
       "4            33.425713            30.534182  2017-07-02T04:37:20+00:00   \n",
       "\n",
       "   energy_efficiency  charge_throughput  energy_throughput  charge_duration  \\\n",
       "0           1.295022           1.448619           4.781313          32896.0   \n",
       "1           0.869771           2.523772           8.538230            640.0   \n",
       "2           0.872325           3.603047          12.301172            640.0   \n",
       "3           0.871096           4.683316          16.066511            512.0   \n",
       "4           0.872500           5.763896          19.832800            512.0   \n",
       "\n",
       "   time_temperature_integrated  paused  \n",
       "0                 38819.488265       0  \n",
       "1                  1969.694576       0  \n",
       "2                  2060.234823       0  \n",
       "3                  1992.821139       0  \n",
       "4                  1993.090434       0  "
      ]
     },
     "execution_count": 6,
     "metadata": {},
     "output_type": "execute_result"
    }
   ],
   "source": [
    "pd.DataFrame(data['summary']).head(5)"
   ]
  },
  {
   "cell_type": "code",
   "execution_count": 7,
   "id": "e7b63ca2-054a-4b7e-a6ed-effab5e9cc46",
   "metadata": {
    "tags": []
   },
   "outputs": [
    {
     "data": {
      "text/html": [
       "<div>\n",
       "<style scoped>\n",
       "    .dataframe tbody tr th:only-of-type {\n",
       "        vertical-align: middle;\n",
       "    }\n",
       "\n",
       "    .dataframe tbody tr th {\n",
       "        vertical-align: top;\n",
       "    }\n",
       "\n",
       "    .dataframe thead th {\n",
       "        text-align: right;\n",
       "    }\n",
       "</style>\n",
       "<table border=\"1\" class=\"dataframe\">\n",
       "  <thead>\n",
       "    <tr style=\"text-align: right;\">\n",
       "      <th></th>\n",
       "      <th>voltage</th>\n",
       "      <th>charge_capacity</th>\n",
       "      <th>discharge_capacity</th>\n",
       "      <th>current</th>\n",
       "      <th>temperature</th>\n",
       "      <th>internal_resistance</th>\n",
       "      <th>cycle_index</th>\n",
       "      <th>step_type</th>\n",
       "    </tr>\n",
       "  </thead>\n",
       "  <tbody>\n",
       "    <tr>\n",
       "      <th>0</th>\n",
       "      <td>2.800000</td>\n",
       "      <td>1.082039</td>\n",
       "      <td>1.571161</td>\n",
       "      <td>-0.110005</td>\n",
       "      <td>29.863420</td>\n",
       "      <td>0.024491</td>\n",
       "      <td>0</td>\n",
       "      <td>discharge</td>\n",
       "    </tr>\n",
       "    <tr>\n",
       "      <th>1</th>\n",
       "      <td>2.800701</td>\n",
       "      <td>1.082039</td>\n",
       "      <td>1.571105</td>\n",
       "      <td>-0.110000</td>\n",
       "      <td>29.872265</td>\n",
       "      <td>0.024491</td>\n",
       "      <td>0</td>\n",
       "      <td>discharge</td>\n",
       "    </tr>\n",
       "    <tr>\n",
       "      <th>2</th>\n",
       "      <td>2.801401</td>\n",
       "      <td>1.082039</td>\n",
       "      <td>1.571049</td>\n",
       "      <td>-0.109995</td>\n",
       "      <td>29.881109</td>\n",
       "      <td>0.024491</td>\n",
       "      <td>0</td>\n",
       "      <td>discharge</td>\n",
       "    </tr>\n",
       "    <tr>\n",
       "      <th>3</th>\n",
       "      <td>2.802102</td>\n",
       "      <td>1.082039</td>\n",
       "      <td>1.570993</td>\n",
       "      <td>-0.109990</td>\n",
       "      <td>29.889954</td>\n",
       "      <td>0.024491</td>\n",
       "      <td>0</td>\n",
       "      <td>discharge</td>\n",
       "    </tr>\n",
       "    <tr>\n",
       "      <th>4</th>\n",
       "      <td>2.802803</td>\n",
       "      <td>1.082039</td>\n",
       "      <td>1.570936</td>\n",
       "      <td>-0.109985</td>\n",
       "      <td>29.898798</td>\n",
       "      <td>0.024491</td>\n",
       "      <td>0</td>\n",
       "      <td>discharge</td>\n",
       "    </tr>\n",
       "  </tbody>\n",
       "</table>\n",
       "</div>"
      ],
      "text/plain": [
       "    voltage  charge_capacity  discharge_capacity   current  temperature  \\\n",
       "0  2.800000         1.082039            1.571161 -0.110005    29.863420   \n",
       "1  2.800701         1.082039            1.571105 -0.110000    29.872265   \n",
       "2  2.801401         1.082039            1.571049 -0.109995    29.881109   \n",
       "3  2.802102         1.082039            1.570993 -0.109990    29.889954   \n",
       "4  2.802803         1.082039            1.570936 -0.109985    29.898798   \n",
       "\n",
       "   internal_resistance  cycle_index  step_type  \n",
       "0             0.024491            0  discharge  \n",
       "1             0.024491            0  discharge  \n",
       "2             0.024491            0  discharge  \n",
       "3             0.024491            0  discharge  \n",
       "4             0.024491            0  discharge  "
      ]
     },
     "execution_count": 7,
     "metadata": {},
     "output_type": "execute_result"
    }
   ],
   "source": [
    "pd.DataFrame(data['cycles_interpolated']).head(5)"
   ]
  },
  {
   "cell_type": "markdown",
   "id": "33acfdbf-9e04-487e-9135-13656c1e8f83",
   "metadata": {},
   "source": [
    "Save each as a separate data file"
   ]
  },
  {
   "cell_type": "code",
   "execution_count": 8,
   "id": "38364d77-e3ae-47e5-90e1-bff8a604d2b3",
   "metadata": {
    "tags": []
   },
   "outputs": [
    {
     "name": "stderr",
     "output_type": "stream",
     "text": [
      "100%|███████████████████████████████████████████████████████████████████████████████████████████████████████████████████████████████████████████████████████████████████████████████████████████████████████████████████████████████████████████████████| 140/140 [40:47<00:00, 17.48s/it]\n"
     ]
    }
   ],
   "source": [
    "out_dir = Path('data/processed/severson_2019')\n",
    "out_dir.mkdir(parents=True, exist_ok=True)\n",
    "for fi in tqdm(zp.filelist):\n",
    "    with zp.open(fi) as fp:\n",
    "        data = json.load(fp)\n",
    "    barcode = data['barcode']\n",
    "    pd.DataFrame(data['summary']).to_csv(out_dir / f'summary_{barcode}.csv.gz', index=False)\n",
    "    pd.DataFrame(data['cycles_interpolated']).to_csv(out_dir / f'discharge_{barcode}.csv.gz', index=False)"
   ]
  },
  {
   "cell_type": "code",
   "execution_count": null,
   "id": "a6ef90cf-bcb3-4661-960b-6b0e94b24bb4",
   "metadata": {},
   "outputs": [],
   "source": []
  }
 ],
 "metadata": {
  "kernelspec": {
   "display_name": "Python 3 (ipykernel)",
   "language": "python",
   "name": "python3"
  },
  "language_info": {
   "codemirror_mode": {
    "name": "ipython",
    "version": 3
   },
   "file_extension": ".py",
   "mimetype": "text/x-python",
   "name": "python",
   "nbconvert_exporter": "python",
   "pygments_lexer": "ipython3",
   "version": "3.10.12"
  }
 },
 "nbformat": 4,
 "nbformat_minor": 5
}
